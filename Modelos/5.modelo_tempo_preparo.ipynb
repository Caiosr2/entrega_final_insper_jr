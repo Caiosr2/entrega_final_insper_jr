{
 "cells": [
  {
   "cell_type": "markdown",
   "id": "7a440569",
   "metadata": {},
   "source": [
    "Escolher Variaveis que Impactam o tempo de preparo para fazer um modelo, que preve o tempo de preparo!"
   ]
  },
  {
   "cell_type": "code",
   "execution_count": 20,
   "id": "3020ed82",
   "metadata": {},
   "outputs": [
    {
     "name": "stdout",
     "output_type": "stream",
     "text": [
      "\n",
      "Analisando modo_envio...\n",
      "                     sum_sq      df            F  PR(>F)\n",
      "C(modo_envio)  20734.388219     3.0  7056.889125     0.0\n",
      "Residual        9784.128891  9990.0          NaN     NaN\n",
      "\n",
      "Analisando segmento...\n",
      "                   sum_sq      df         F    PR(>F)\n",
      "C(segmento)     11.098147     2.0  1.817289  0.162519\n",
      "Residual     30507.418964  9991.0       NaN       NaN\n",
      "\n",
      "Analisando região...\n",
      "                 sum_sq      df         F    PR(>F)\n",
      "C(região)     29.567010     4.0  2.421737  0.046116\n",
      "Residual   30488.950101  9989.0       NaN       NaN\n",
      "\n",
      "Analisando categoria...\n",
      "                    sum_sq      df         F    PR(>F)\n",
      "C(categoria)     11.048285     2.0  1.809121  0.163852\n",
      "Residual      30507.468825  9991.0       NaN       NaN\n",
      "\n",
      "Analisando subcategoria...\n",
      "                       sum_sq      df         F    PR(>F)\n",
      "C(subcategoria)     58.508472    16.0  1.197757  0.260496\n",
      "Residual         30460.008638  9977.0       NaN       NaN\n",
      "\n",
      "Analisando estado...\n",
      "                sum_sq      df         F        PR(>F)\n",
      "C(estado)    413.94101    26.0  5.271049  6.466946e-17\n",
      "Residual   30104.57610  9967.0       NaN           NaN\n",
      "\n",
      "Analisando dia_semana_pedido...\n",
      "                            sum_sq      df         F    PR(>F)\n",
      "C(dia_semana_pedido)     56.293847     6.0  3.075977  0.005216\n",
      "Residual              30462.223263  9987.0       NaN       NaN\n"
     ]
    }
   ],
   "source": [
    "import pandas as pd\n",
    "import seaborn as sns\n",
    "import matplotlib.pyplot as plt\n",
    "import statsmodels.api as sm\n",
    "import statsmodels.formula.api as smf\n",
    "\n",
    "# Carregar a base\n",
    "df = pd.read_excel('../Data/dados_amr.xlsx', sheet_name='Base_Limpa')\n",
    "\n",
    "# Variáveis categóricas para analisar\n",
    "categoricas = ['modo_envio', 'segmento', 'região', 'categoria', 'subcategoria', 'estado', 'dia_semana_pedido']\n",
    "\n",
    "# Rodar ANOVA para cada uma\n",
    "for var in categoricas:\n",
    "    print(f'\\nAnalisando {var}...')\n",
    "    model = smf.ols(f'tempo_preparacao ~ C({var})', data=df).fit()\n",
    "    anova_table = sm.stats.anova_lm(model, typ=2)\n",
    "    print(anova_table)\n",
    "\n"
   ]
  },
  {
   "cell_type": "markdown",
   "id": "b6babc55",
   "metadata": {},
   "source": [
    " Variáveis Significativas (PR(>F) < 0.05):\n",
    " - região\n",
    " - estado\n",
    " - dia_semana_pedido\n",
    " - modo_envio"
   ]
  },
  {
   "cell_type": "code",
   "execution_count": 28,
   "id": "d458f898",
   "metadata": {},
   "outputs": [
    {
     "name": "stdout",
     "output_type": "stream",
     "text": [
      "Validação\n",
      "MSE: 0.12884367815050538\n",
      "R²: 0.957850662634745\n",
      "\n",
      "Teste Final\n",
      "MSE: 0.10904849162435548\n",
      "R²: 0.962476374831337\n"
     ]
    }
   ],
   "source": [
    "\n",
    "from sklearn.model_selection import train_test_split\n",
    "from sklearn.ensemble import HistGradientBoostingRegressor\n",
    "from sklearn.metrics import mean_squared_error, r2_score\n",
    "\n",
    "\n",
    "df = pd.read_excel('../Data/dados_amr.xlsx')\n",
    "\n",
    "# Definir target e features\n",
    "y = df['tempo_preparacao']\n",
    "X = df[['modo_envio', 'região', 'dia_semana_pedido']]\n",
    "X = df.drop(columns=[\"tempo_preparacao\"])\n",
    "\n",
    "# Codificar variáveis categóricas\n",
    "X_encoded = pd.get_dummies(X, drop_first=True)\n",
    "\n",
    "# Dividir em treino, validação e teste\n",
    "X_temp, X_test, y_temp, y_test = train_test_split(X_encoded, y, test_size=0.2, random_state=42)\n",
    "X_train, X_val, y_train, y_val = train_test_split(X_temp, y_temp, test_size=0.25, random_state=42)\n",
    "\n",
    "# Treinar o modelo\n",
    "model = HistGradientBoostingRegressor(random_state=42)\n",
    "model.fit(X_train, y_train)\n",
    "\n",
    "# Avaliação na validação\n",
    "y_val_pred = model.predict(X_val)\n",
    "print(\"Validação\")\n",
    "print(\"MSE:\", mean_squared_error(y_val, y_val_pred))\n",
    "print(\"R²:\", r2_score(y_val, y_val_pred))\n",
    "\n",
    "# Avaliação no teste final\n",
    "y_test_pred = model.predict(X_test)\n",
    "print(\"\\nTeste Final\")\n",
    "print(\"MSE:\", mean_squared_error(y_test, y_test_pred))\n",
    "print(\"R²:\", r2_score(y_test, y_test_pred))"
   ]
  },
  {
   "cell_type": "code",
   "execution_count": 3,
   "id": "f2ff6582",
   "metadata": {},
   "outputs": [],
   "source": [
    "import joblib\n",
    "joblib.dump(model, 'modelo_tempo.pkl')\n",
    "modelo_carregado = joblib.load('modelo_tempo.pkl')"
   ]
  },
  {
   "cell_type": "code",
   "execution_count": 4,
   "id": "e8314277",
   "metadata": {},
   "outputs": [
    {
     "name": "stdout",
     "output_type": "stream",
     "text": [
      "Correlação de Pearson: -0.004649353144150638\n"
     ]
    }
   ],
   "source": [
    "correlation = df['tempo_preparacao'].corr(df['lucro'])\n",
    "print(\"Correlação de Pearson:\", correlation)"
   ]
  }
 ],
 "metadata": {
  "kernelspec": {
   "display_name": "base",
   "language": "python",
   "name": "python3"
  },
  "language_info": {
   "codemirror_mode": {
    "name": "ipython",
    "version": 3
   },
   "file_extension": ".py",
   "mimetype": "text/x-python",
   "name": "python",
   "nbconvert_exporter": "python",
   "pygments_lexer": "ipython3",
   "version": "3.12.4"
  }
 },
 "nbformat": 4,
 "nbformat_minor": 5
}
