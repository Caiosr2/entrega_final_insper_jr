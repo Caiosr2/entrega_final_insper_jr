{
 "cells": [
  {
   "cell_type": "code",
   "execution_count": 4,
   "id": "6e352edb",
   "metadata": {},
   "outputs": [
    {
     "name": "stdout",
     "output_type": "stream",
     "text": [
      "\n",
      "Validação\n",
      "Acurácia: 0.9484742371185593\n",
      "MSE: 0.2061030515257629\n",
      "\n",
      "Teste Final\n",
      "Acurácia: 0.9389694847423712\n",
      "MSE: 0.24412206103051526\n"
     ]
    }
   ],
   "source": [
    "import pandas as pd\n",
    "from sklearn.model_selection import train_test_split\n",
    "from sklearn.ensemble import HistGradientBoostingClassifier\n",
    "from sklearn.metrics import accuracy_score, mean_squared_error\n",
    "\n",
    "# Carregar os dados\n",
    "arquivo = \"dados_amr.xlsx\"\n",
    "df = pd.read_excel(arquivo)\n",
    "\n",
    "# Criar a variável binária: 1 para lucro, -1 para prejuízo\n",
    "df['lucro_binario'] = df['lucro'].apply(lambda x: 1 if x > 0 else -1)\n",
    "\n",
    "# Definir target e features\n",
    "y = df['lucro_binario']\n",
    "X = df.drop(columns=['lucro', 'lucro_binario', 'id_pedido', 'nome_cliente', 'data_pedido', 'mes_ano'])\n",
    "\n",
    "# Codificar variáveis categóricas\n",
    "X_encoded = pd.get_dummies(X, drop_first=True)\n",
    "\n",
    "# Dividir em treino, validação e teste\n",
    "X_temp, X_test, y_temp, y_test = train_test_split(X_encoded, y, test_size=0.2, random_state=42)\n",
    "X_train, X_val, y_train, y_val = train_test_split(X_temp, y_temp, test_size=0.25, random_state=42)\n",
    "\n",
    "# Treinar o modelo\n",
    "model = HistGradientBoostingClassifier(random_state=42)\n",
    "model.fit(X_train, y_train)\n",
    "\n",
    "\n",
    "\n",
    "\n",
    "\n",
    "# Avaliação na validação\n",
    "y_val_pred = model.predict(X_val)\n",
    "print(\"\\nValidação\")\n",
    "print(\"Acurácia:\", accuracy_score(y_val, y_val_pred))\n",
    "print(\"MSE:\", mean_squared_error(y_val, y_val_pred))\n",
    "\n",
    "# Avaliação no teste final\n",
    "y_test_pred = model.predict(X_test)\n",
    "print(\"\\nTeste Final\")\n",
    "print(\"Acurácia:\", accuracy_score(y_test, y_test_pred))\n",
    "print(\"MSE:\", mean_squared_error(y_test, y_test_pred))\n",
    "\n"
   ]
  },
  {
   "cell_type": "code",
   "execution_count": 5,
   "id": "a51d2cb2",
   "metadata": {},
   "outputs": [],
   "source": [
    "import joblib\n",
    "joblib.dump(model, 'modelo_lucro.pkl')\n",
    "modelo_carregado = joblib.load('modelo_lucro.pkl')"
   ]
  }
 ],
 "metadata": {
  "kernelspec": {
   "display_name": "base",
   "language": "python",
   "name": "python3"
  },
  "language_info": {
   "codemirror_mode": {
    "name": "ipython",
    "version": 3
   },
   "file_extension": ".py",
   "mimetype": "text/x-python",
   "name": "python",
   "nbconvert_exporter": "python",
   "pygments_lexer": "ipython3",
   "version": "3.12.4"
  }
 },
 "nbformat": 4,
 "nbformat_minor": 5
}
