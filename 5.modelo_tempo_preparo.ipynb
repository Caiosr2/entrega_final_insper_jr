{
 "cells": [
  {
   "cell_type": "code",
   "execution_count": null,
   "id": "d458f898",
   "metadata": {},
   "outputs": [
    {
     "name": "stdout",
     "output_type": "stream",
     "text": [
      "Validação\n",
      "MSE: 0.12884367815050538\n",
      "R²: 0.957850662634745\n",
      "\n",
      "Teste Final\n",
      "MSE: 0.10904849162435548\n",
      "R²: 0.962476374831337\n"
     ]
    }
   ],
   "source": [
    "import pandas as pd\n",
    "from sklearn.model_selection import train_test_split\n",
    "from sklearn.ensemble import HistGradientBoostingRegressor\n",
    "from sklearn.metrics import mean_squared_error, r2_score\n",
    "\n",
    "arquivo = \"dados_amr.xlsx\"\n",
    "df = pd.read_excel(arquivo)\n",
    "\n",
    "# Definir target e features\n",
    "y = df['tempo_preparacao']\n",
    "X = df.drop(columns=['tempo_preparacao'])\n",
    "\n",
    "# Codificar variáveis categóricas\n",
    "X_encoded = pd.get_dummies(X, drop_first=True)\n",
    "\n",
    "# Dividir em treino, validação e teste\n",
    "X_temp, X_test, y_temp, y_test = train_test_split(X_encoded, y, test_size=0.2, random_state=42)\n",
    "X_train, X_val, y_train, y_val = train_test_split(X_temp, y_temp, test_size=0.25, random_state=42)\n",
    "\n",
    "# Treinar o modelo\n",
    "model = HistGradientBoostingRegressor(random_state=42)\n",
    "model.fit(X_train, y_train)\n",
    "\n",
    "# Avaliação na validação\n",
    "y_val_pred = model.predict(X_val)\n",
    "print(\"Validação\")\n",
    "print(\"MSE:\", mean_squared_error(y_val, y_val_pred))\n",
    "print(\"R²:\", r2_score(y_val, y_val_pred))\n",
    "\n",
    "# Avaliação no teste final\n",
    "y_test_pred = model.predict(X_test)\n",
    "print(\"\\nTeste Final\")\n",
    "print(\"MSE:\", mean_squared_error(y_test, y_test_pred))\n",
    "print(\"R²:\", r2_score(y_test, y_test_pred))"
   ]
  },
  {
   "cell_type": "code",
   "execution_count": 11,
   "id": "f2ff6582",
   "metadata": {},
   "outputs": [],
   "source": [
    "import joblib\n",
    "joblib.dump(model, 'modelo_lucro.pkl')\n",
    "modelo_carregado = joblib.load('modelo_lucro.pkl')"
   ]
  },
  {
   "cell_type": "code",
   "execution_count": 35,
   "id": "e8314277",
   "metadata": {},
   "outputs": [
    {
     "name": "stdout",
     "output_type": "stream",
     "text": [
      "Correlação de Pearson: -0.004649353144150638\n"
     ]
    }
   ],
   "source": [
    "correlation = df['tempo_preparacao'].corr(df['lucro'])\n",
    "print(\"Correlação de Pearson:\", correlation)"
   ]
  }
 ],
 "metadata": {
  "kernelspec": {
   "display_name": "base",
   "language": "python",
   "name": "python3"
  },
  "language_info": {
   "codemirror_mode": {
    "name": "ipython",
    "version": 3
   },
   "file_extension": ".py",
   "mimetype": "text/x-python",
   "name": "python",
   "nbconvert_exporter": "python",
   "pygments_lexer": "ipython3",
   "version": "3.12.4"
  }
 },
 "nbformat": 4,
 "nbformat_minor": 5
}
